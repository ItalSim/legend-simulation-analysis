{
 "cells": [
  {
   "cell_type": "code",
   "execution_count": 1,
   "id": "b4bef487-2c7f-4a98-8f25-3196bf5fb35d",
   "metadata": {},
   "outputs": [
    {
     "name": "stdout",
     "output_type": "stream",
     "text": [
      "['ArCapSims.root', 'appliedmap0.root', 'appliedmap1.root', 'appliedmap10.root', 'appliedmap11.root', 'appliedmap12.root', 'appliedmap13.root', 'appliedmap14.root', 'appliedmap15.root', 'appliedmap16.root', 'appliedmap17.root', 'appliedmap18.root', 'appliedmap19.root', 'appliedmap2.root', 'appliedmap20.root', 'appliedmap21.root', 'appliedmap22.root', 'appliedmap23.root', 'appliedmap24.root', 'appliedmap25.root']\n"
     ]
    }
   ],
   "source": [
    "import LEGENDPlotStyle as lps\n",
    "\n",
    "import os\n",
    "import math\n",
    "import uproot\n",
    "import random\n",
    "import argparse\n",
    "import opanalysis_v3 as opanalysis\n",
    "import numpy as np\n",
    "import pandas as pd\n",
    "#import seaborn as sns\n",
    "from tqdm.notebook import tqdm\n",
    "from matplotlib import pyplot as plt\n",
    "import matplotlib.animation as animation\n",
    "from matplotlib.colors import LogNorm, Normalize\n",
    "\n",
    "path = \"/lfs/l1/legend/users/cbarton/simulations/campaigns/opmapprocessing/24-12-08-Ar41+H2-SmallMod-momentumfixed/output\"\n",
    "files = sorted(os.listdir(path))[0:]\n",
    "\n",
    "ar40_df = pd.DataFrame()\n",
    "ar40_dflid = pd.DataFrame()\n",
    "\n",
    "#For testing\n",
    "files = files[0:20]\n",
    "print(files)"
   ]
  },
  {
   "cell_type": "code",
   "execution_count": 2,
   "id": "d73f46c6-2cca-4249-b8b8-980596eb6e4a",
   "metadata": {},
   "outputs": [
    {
     "data": {
      "application/vnd.jupyter.widget-view+json": {
       "model_id": "d6d2c70387a44f3d87bc3b17d3633d29",
       "version_major": 2,
       "version_minor": 0
      },
      "text/plain": [
       "  0%|          | 0/20 [00:00<?, ?it/s]"
      ]
     },
     "metadata": {},
     "output_type": "display_data"
    },
    {
     "name": "stdout",
     "output_type": "stream",
     "text": [
      "skipping ArCapSims.root\n",
      "16847\n",
      "        EventID  sector  panel  \\\n",
      "0         22175       2     13   \n",
      "1         22175       2     14   \n",
      "2         22175       2     15   \n",
      "3         22175       2     16   \n",
      "4         22175       3     14   \n",
      "...         ...     ...    ...   \n",
      "308340      886       8     18   \n",
      "308341      886       8     19   \n",
      "308342      886       8     20   \n",
      "308343      886       8     21   \n",
      "308344      886       8     22   \n",
      "\n",
      "                                                    zband      time  \n",
      "0       [0, 0, 0, 0, 0, 0, 0, 0, 0, 0, 0, 0, 0, 0, 0, ...  0.000280  \n",
      "1       [0, 1, 1, 1, 1, 1, 3, 2, 4, 2, 1, 0, 0, 4, 1, ...  0.000280  \n",
      "2       [0, 0, 0, 1, 0, 0, 0, 0, 0, 1, 0, 2, 0, 0, 0, ...  0.000280  \n",
      "3       [0, 0, 0, 0, 0, 0, 0, 0, 0, 0, 0, 0, 0, 0, 0, ...  0.000280  \n",
      "4       [0, 0, 0, 0, 0, 0, 0, 0, 0, 0, 0, 0, 0, 0, 0, ...  0.000280  \n",
      "...                                                   ...       ...  \n",
      "308340  [0, 0, 0, 0, 0, 0, 0, 0, 0, 0, 0, 0, 0, 0, 0, ...  0.001368  \n",
      "308341  [0, 0, 0, 0, 0, 0, 0, 0, 0, 0, 0, 0, 0, 0, 0, ...  0.001368  \n",
      "308342  [0, 0, 0, 0, 0, 0, 0, 0, 0, 0, 0, 0, 0, 0, 0, ...  0.001368  \n",
      "308343  [0, 0, 0, 0, 0, 0, 0, 0, 0, 0, 0, 0, 0, 0, 0, ...  0.001368  \n",
      "308344  [0, 0, 0, 0, 0, 0, 0, 0, 0, 0, 0, 0, 0, 0, 0, ...  0.001368  \n",
      "\n",
      "[6747027 rows x 5 columns]\n"
     ]
    }
   ],
   "source": [
    "#Consider doing separate isotope analyses\n",
    "tmp_df = pd.DataFrame()\n",
    "tmp_dflid = pd.DataFrame()\n",
    "for file in tqdm(files):\n",
    "    try:\n",
    "        tf = uproot.open(os.path.join(path, file))[\"panelhits\"]\n",
    "        tmp_df = pd.DataFrame()\n",
    "        tmp_df[\"EventID\"]  = tf[\"EventID\"].array(library=\"np\")\n",
    "        tmp_df[\"sector\"]   = tf[\"sector\"].array(library=\"np\")\n",
    "        tmp_df[\"panel\"]    = tf[\"panel\"].array(library=\"np\")\n",
    "        tmp_df[\"zband\"]    = tf[\"zband\"].array(library=\"np\")\n",
    "        tmp_df[\"time\"]     = tf[\"time\"].array(library=\"np\")\n",
    "        \n",
    "        tflid = uproot.open(os.path.join(path, file))[\"lidhits\"]\n",
    "        tmp_dflid = pd.DataFrame()\n",
    "        tmp_dflid[\"EventID\"]  = tflid[\"EventID\"].array(library=\"np\")\n",
    "        tmp_dflid[\"sector\"]   = tflid[\"sector\"].array(library=\"np\")\n",
    "        tmp_dflid[\"panel\"]    = tflid[\"panel\"].array(library=\"np\")\n",
    "        tmp_dflid[\"zband\"]    = tflid[\"xband\"].array(library=\"np\")\n",
    "        tmp_dflid[\"time\"]     = tflid[\"time\"].array(library=\"np\")\n",
    "        \n",
    "    except:\n",
    "        print(f\"skipping {file}\")\n",
    "    \n",
    "    ar40_df = pd.concat([tmp_df, ar40_df])\n",
    "    ar40_dflid = pd.concat([tmp_dflid, ar40_dflid])\n",
    "\n",
    "ar40_df77 = pd.DataFrame()\n",
    "ar40_dflid77 = pd.DataFrame()\n",
    "\n",
    "ge77_only = 0\n",
    "\n",
    "#\n",
    "#Important: ge77_events.txt needs to be regenerated for the new results\n",
    "#\n",
    "\n",
    "if ge77_only == 1:\n",
    "    ge77_events = []\n",
    "    with open('ge77_events.txt') as f:\n",
    "        lines = f.readlines()\n",
    "        for l in lines:\n",
    "            ge77_events.append(int(l)-1)\n",
    "    ar40_df77 = ar40_df[np.isin(ar40_df.EventID, ge77_events)]\n",
    "    ar40_dflid77 = ar40_dflid[np.isin(ar40_dflid.EventID, ge77_events)] #Forgot to include this at first\n",
    "    \n",
    "#ar40_dflid['panel']=ar40_dflid['panel']+24\n",
    "\n",
    "#if ge77_only == 1:\n",
    "#    ar40_dflid77['panel']=ar40_dflid77['panel']+24\n",
    "\n",
    "'''\n",
    "This line looks a bit complicated, but it's mostly type manipulation\n",
    "The.EventID.unique() returns a numpy array, but sorted() converts it to a list\n",
    "Converting to a set drops duplicate values, then we convert back to a list\n",
    "We could probably work with the set instead\n",
    "but eh, whatever, it's just one extra operation\n",
    "The real runtime killer here is loading the data, which is unavoidable\n",
    "'''\n",
    "evt_list = list(set(sorted(ar40_df.EventID.unique())+sorted(ar40_dflid.EventID.unique())))\n",
    "\n",
    "if ge77_only == 1:\n",
    "    evt_list = list(set(sorted(ar40_df77.EventID.unique())+sorted(ar40_dflid77.EventID.unique())))\n",
    "\n",
    "total_nof_ar40_events = len(evt_list)\n",
    "\n",
    "print(total_nof_ar40_events)\n",
    "\n",
    "if(ge77_only == 0):\n",
    "    print(ar40_df)\n",
    "if(ge77_only == 1):\n",
    "    print(ar40_df77)\n",
    "\n"
   ]
  },
  {
   "cell_type": "code",
   "execution_count": null,
   "id": "a8a3e0c3-b8b0-4107-9c84-167e047b82ad",
   "metadata": {
    "jupyter": {
     "source_hidden": true
    },
    "tags": []
   },
   "outputs": [],
   "source": [
    "path = \"\"\n",
    "files = sorted(os.listdir(path))[1:]\n",
    "\n",
    "ar39_df = pd.DataFrame()\n",
    "ar39_dflid = pd.DataFrame()\n",
    "\n",
    "#For testing\n",
    "files = files[0:10]\n",
    "\n",
    "for file in tqdm(files):\n",
    "    try:\n",
    "        tf = uproot.open(os.path.join(path, file))[\"panelhits\"]\n",
    "    \n",
    "        tmp_df = pd.DataFrame()\n",
    "        tmp_df[\"EventID\"]  = tf[\"EventID\"].array(library=\"np\")\n",
    "        tmp_df[\"sector\"]   = tf[\"sector\"].array(library=\"np\")\n",
    "        tmp_df[\"panel\"]    = tf[\"panel\"].array(library=\"np\")\n",
    "        tmp_df[\"zband\"]    = tf[\"zband\"].array(library=\"np\")\n",
    "        tmp_df[\"time\"]     = tf[\"time\"].array(library=\"np\")\n",
    "        \n",
    "        tflid = uproot.open(os.path.join(path, file))[\"lidhits\"]\n",
    "    \n",
    "        tmp_dflid = pd.DataFrame()\n",
    "        tmp_dflid[\"EventID\"]  = tflid[\"EventID\"].array(library=\"np\")\n",
    "        tmp_dflid[\"sector\"]   = tflid[\"sector\"].array(library=\"np\")\n",
    "        tmp_dflid[\"panel\"]    = tflid[\"panel\"].array(library=\"np\")\n",
    "        tmp_dflid[\"zband\"]    = tflid[\"xband\"].array(library=\"np\")\n",
    "        tmp_dflid[\"time\"]     = tflid[\"time\"].array(library=\"np\")\n",
    "        \n",
    "    except:\n",
    "        print(f\"skipping {file}\")\n",
    "    \n",
    "    ar39_df = pd.concat([tmp_df, ar39_df])\n",
    "    ar39_dflid = pd.concat([tmp_dflid, ar39_dflid])\n",
    "    \n",
    "#evt_list = sorted(ar39_df.EventID.unique()) #Old\n",
    "evt_list = list(set(sorted(ar39_df.EventID.unique())+sorted(ar39_dflid.EventID.unique())))\n",
    "print(len(evt_list))\n",
    "ar39_events_simulated = len(evt_list)"
   ]
  },
  {
   "cell_type": "code",
   "execution_count": 3,
   "id": "679ade05-e86b-49fb-8e03-9d35f2ecde92",
   "metadata": {},
   "outputs": [
    {
     "data": {
      "text/plain": [
       "<Figure size 800x600 with 0 Axes>"
      ]
     },
     "metadata": {},
     "output_type": "display_data"
    }
   ],
   "source": [
    "# random number of colors and markers\n",
    "# different (color, marker) combination for different number of light guides per panel\n",
    "marker = [\"o\", \"s\", \"d\", \"^\", \"v\", \"*\", \"P\", \"+\", \"x\"]\n",
    "color = [lps.colors['legend_blue'], lps.colors['legend_green'], lps.colors['legend_orange'], lps.colors['legend_violet'], lps.colors['legend_darkblue']]\n",
    "\n",
    "ar41_rate = opanalysis.get_muon_rate() * 97910/12000000\n",
    "\n",
    "n_bar = 12\n",
    "eff = .005\n",
    "\n",
    "plt.figure(figsize = (8,6))\n",
    "\n",
    "residual_space, slices, guide_position = opanalysis.get_guides(300, 10, n_bar)\n",
    "\n",
    "PE_threshold_list = np.arange(0, 16, 1)"
   ]
  },
  {
   "cell_type": "code",
   "execution_count": 4,
   "id": "2cd30cab-b78a-427f-ae32-453f5c506c9c",
   "metadata": {
    "tags": []
   },
   "outputs": [
    {
     "name": "stderr",
     "output_type": "stream",
     "text": [
      "/home/cbarton/py/opanalysis_v3.py:255: FutureWarning: Series.__getitem__ treating keys as positions is deprecated. In a future version, integer keys will always be treated as labels (consistent with DataFrame behavior). To access a value by position, use `ser.iloc[pos]`\n",
      "  bin_start = round(dx[1].iloc[0][4],6)\n",
      "/home/cbarton/py/opanalysis_v3.py:259: FutureWarning: Series.__getitem__ treating keys as positions is deprecated. In a future version, integer keys will always be treated as labels (consistent with DataFrame behavior). To access a value by position, use `ser.iloc[pos]`\n",
      "  if(rowe[4] > bin_end):\n",
      "/home/cbarton/py/opanalysis_v3.py:260: FutureWarning: Series.__getitem__ treating keys as positions is deprecated. In a future version, integer keys will always be treated as labels (consistent with DataFrame behavior). To access a value by position, use `ser.iloc[pos]`\n",
      "  bin_start = round(rowe[4],6)\n",
      "/home/cbarton/py/opanalysis_v3.py:255: FutureWarning: Series.__getitem__ treating keys as positions is deprecated. In a future version, integer keys will always be treated as labels (consistent with DataFrame behavior). To access a value by position, use `ser.iloc[pos]`\n",
      "  bin_start = round(dx[1].iloc[0][4],6)\n",
      "/home/cbarton/py/opanalysis_v3.py:259: FutureWarning: Series.__getitem__ treating keys as positions is deprecated. In a future version, integer keys will always be treated as labels (consistent with DataFrame behavior). To access a value by position, use `ser.iloc[pos]`\n",
      "  if(rowe[4] > bin_end):\n",
      "/home/cbarton/py/opanalysis_v3.py:260: FutureWarning: Series.__getitem__ treating keys as positions is deprecated. In a future version, integer keys will always be treated as labels (consistent with DataFrame behavior). To access a value by position, use `ser.iloc[pos]`\n",
      "  bin_start = round(rowe[4],6)\n"
     ]
    },
    {
     "name": "stdout",
     "output_type": "stream",
     "text": [
      "EventID  panel  time_bin            \n",
      "0        8      [0.000485, 0.000495]    [0, 0, 0, 0, 0, 0, 0, 0, 0, 0, 0, 0, 0, 0, 0, ...\n",
      "         9      [0.000485, 0.000495]    [0, 0, 0, 0, 0, 0, 0, 0, 0, 0, 0, 1, 0, 4, 0, ...\n",
      "         10     [0.000485, 0.000495]    [0, 0, 0, 0, 0, 0, 0, 0, 0, 0, 0, 1, 0, 2, 0, ...\n",
      "         11     [0.000485, 0.000495]    [0, 0, 0, 0, 0, 0, 0, 0, 0, 0, 0, 0, 0, 0, 0, ...\n",
      "         12     [0.000485, 0.000495]    [0, 0, 0, 0, 0, 0, 0, 0, 0, 0, 0, 0, 0, 0, 0, ...\n",
      "                                                              ...                        \n",
      "23061    1      [0.000859, 0.000869]    [0, 0, 0, 0, 0, 0, 0, 0, 0, 0, 0, 1, 0, 0, 0, ...\n",
      "         2      [0.000859, 0.000869]    [0, 0, 0, 0, 0, 0, 0, 0, 0, 3, 0, 2, 0, 2, 0, ...\n",
      "         3      [0.000859, 0.000869]    [0, 1, 0, 0, 0, 0, 0, 0, 0, 0, 0, 1, 0, 0, 0, ...\n",
      "         4      [0.000859, 0.000869]    [0, 0, 0, 0, 0, 0, 0, 0, 0, 0, 0, 0, 0, 0, 0, ...\n",
      "         12     [0.000859, 0.000869]    [0, 0, 0, 0, 0, 0, 0, 0, 0, 0, 0, 0, 0, 0, 0, ...\n",
      "Name: zband, Length: 470067, dtype: object\n"
     ]
    }
   ],
   "source": [
    "if(ge77_only==0):\n",
    "    sliced_df_41 = opanalysis.slicing(ar40_df, 300, n_bar, 10, eff, .00001)\n",
    "    sliced_df_41lid = opanalysis.slicing(ar40_dflid, 52, 3, 10, eff, .00001)\n",
    "if(ge77_only==1):\n",
    "    sliced_df_41 = opanalysis.slicing(ar40_df77, 300, n_bar, 10, eff, .00001)\n",
    "    sliced_df_41lid = opanalysis.slicing(ar40_dflid77, 52, 3, 10, eff, .00001)\n",
    "#print(ar40_df)\n",
    "print(sliced_df_41)"
   ]
  },
  {
   "cell_type": "code",
   "execution_count": 5,
   "id": "fedc9405-932f-4ded-9c5b-1cd077a0fdd7",
   "metadata": {
    "tags": []
   },
   "outputs": [
    {
     "data": {
      "application/vnd.jupyter.widget-view+json": {
       "model_id": "d587069948c94f578f82a9067832efe4",
       "version_major": 2,
       "version_minor": 0
      },
      "text/plain": [
       "  0%|          | 0/16 [00:00<?, ?it/s]"
      ]
     },
     "metadata": {},
     "output_type": "display_data"
    },
    {
     "data": {
      "application/vnd.jupyter.widget-view+json": {
       "model_id": "c4a430010ac14ebb990c6effef563f32",
       "version_major": 2,
       "version_minor": 0
      },
      "text/plain": [
       "  0%|          | 0/5 [00:00<?, ?it/s]"
      ]
     },
     "metadata": {},
     "output_type": "display_data"
    },
    {
     "data": {
      "application/vnd.jupyter.widget-view+json": {
       "model_id": "8ee43fd1059b4d57883ef0bc54c11a13",
       "version_major": 2,
       "version_minor": 0
      },
      "text/plain": [
       "  0%|          | 0/5 [00:00<?, ?it/s]"
      ]
     },
     "metadata": {},
     "output_type": "display_data"
    },
    {
     "data": {
      "application/vnd.jupyter.widget-view+json": {
       "model_id": "6975785779374eb7b28dcaa3069244a0",
       "version_major": 2,
       "version_minor": 0
      },
      "text/plain": [
       "  0%|          | 0/5 [00:00<?, ?it/s]"
      ]
     },
     "metadata": {},
     "output_type": "display_data"
    },
    {
     "data": {
      "application/vnd.jupyter.widget-view+json": {
       "model_id": "ebfbfc6eaa6f422b8531fd2677460325",
       "version_major": 2,
       "version_minor": 0
      },
      "text/plain": [
       "  0%|          | 0/5 [00:00<?, ?it/s]"
      ]
     },
     "metadata": {},
     "output_type": "display_data"
    },
    {
     "data": {
      "application/vnd.jupyter.widget-view+json": {
       "model_id": "a7f0945f41ee4db9934e145bfcc29703",
       "version_major": 2,
       "version_minor": 0
      },
      "text/plain": [
       "  0%|          | 0/5 [00:00<?, ?it/s]"
      ]
     },
     "metadata": {},
     "output_type": "display_data"
    },
    {
     "data": {
      "application/vnd.jupyter.widget-view+json": {
       "model_id": "d2522f5a5ff74f578face04d623b57ac",
       "version_major": 2,
       "version_minor": 0
      },
      "text/plain": [
       "  0%|          | 0/5 [00:00<?, ?it/s]"
      ]
     },
     "metadata": {},
     "output_type": "display_data"
    },
    {
     "data": {
      "application/vnd.jupyter.widget-view+json": {
       "model_id": "5dee156698714ee1b00b203fd3ef7ecf",
       "version_major": 2,
       "version_minor": 0
      },
      "text/plain": [
       "  0%|          | 0/5 [00:00<?, ?it/s]"
      ]
     },
     "metadata": {},
     "output_type": "display_data"
    },
    {
     "data": {
      "application/vnd.jupyter.widget-view+json": {
       "model_id": "ac8ae1e46b42472989f98010ec1fc89c",
       "version_major": 2,
       "version_minor": 0
      },
      "text/plain": [
       "  0%|          | 0/5 [00:00<?, ?it/s]"
      ]
     },
     "metadata": {},
     "output_type": "display_data"
    },
    {
     "data": {
      "application/vnd.jupyter.widget-view+json": {
       "model_id": "af642dc82feb484c83dc342d68e7277f",
       "version_major": 2,
       "version_minor": 0
      },
      "text/plain": [
       "  0%|          | 0/5 [00:00<?, ?it/s]"
      ]
     },
     "metadata": {},
     "output_type": "display_data"
    },
    {
     "data": {
      "application/vnd.jupyter.widget-view+json": {
       "model_id": "4892debed3a94805854b35b9e17f7e2b",
       "version_major": 2,
       "version_minor": 0
      },
      "text/plain": [
       "  0%|          | 0/5 [00:00<?, ?it/s]"
      ]
     },
     "metadata": {},
     "output_type": "display_data"
    },
    {
     "data": {
      "application/vnd.jupyter.widget-view+json": {
       "model_id": "fc399543313d4cf7b25c80c755389908",
       "version_major": 2,
       "version_minor": 0
      },
      "text/plain": [
       "  0%|          | 0/5 [00:00<?, ?it/s]"
      ]
     },
     "metadata": {},
     "output_type": "display_data"
    },
    {
     "data": {
      "application/vnd.jupyter.widget-view+json": {
       "model_id": "2f96c2e261ca465297fff7bd717c19b0",
       "version_major": 2,
       "version_minor": 0
      },
      "text/plain": [
       "  0%|          | 0/5 [00:00<?, ?it/s]"
      ]
     },
     "metadata": {},
     "output_type": "display_data"
    },
    {
     "data": {
      "application/vnd.jupyter.widget-view+json": {
       "model_id": "c066b3e13a7345b294112974df5cc79a",
       "version_major": 2,
       "version_minor": 0
      },
      "text/plain": [
       "  0%|          | 0/5 [00:00<?, ?it/s]"
      ]
     },
     "metadata": {},
     "output_type": "display_data"
    },
    {
     "data": {
      "application/vnd.jupyter.widget-view+json": {
       "model_id": "d28b7d555fab4e0e96233fc9724f4b8d",
       "version_major": 2,
       "version_minor": 0
      },
      "text/plain": [
       "  0%|          | 0/5 [00:00<?, ?it/s]"
      ]
     },
     "metadata": {},
     "output_type": "display_data"
    },
    {
     "data": {
      "application/vnd.jupyter.widget-view+json": {
       "model_id": "e9a63f607e5e472c85897d9407eef070",
       "version_major": 2,
       "version_minor": 0
      },
      "text/plain": [
       "  0%|          | 0/5 [00:00<?, ?it/s]"
      ]
     },
     "metadata": {},
     "output_type": "display_data"
    },
    {
     "data": {
      "application/vnd.jupyter.widget-view+json": {
       "model_id": "35a6b5cf5d1c487791e0436d380c6fc6",
       "version_major": 2,
       "version_minor": 0
      },
      "text/plain": [
       "  0%|          | 0/5 [00:00<?, ?it/s]"
      ]
     },
     "metadata": {},
     "output_type": "display_data"
    },
    {
     "name": "stdout",
     "output_type": "stream",
     "text": [
      "CPU times: user 1min 3s, sys: 552 ms, total: 1min 4s\n",
      "Wall time: 1min 4s\n"
     ]
    },
    {
     "data": {
      "text/plain": [
       "<matplotlib.legend.Legend at 0x7f10d418b380>"
      ]
     },
     "execution_count": 5,
     "metadata": {},
     "output_type": "execute_result"
    },
    {
     "data": {
      "image/png": "[encoded data removed]",
      "text/plain": [
       "<Figure size 640x480 with 1 Axes>"
      ]
     },
     "metadata": {},
     "output_type": "display_data"
    }
   ],
   "source": [
    "%%time\n",
    "\n",
    "#I guess this line removes some warning message that I don't like\n",
    "#pd.options.mode.chained_assignment = None\n",
    "\n",
    "'''\n",
    "The original idea behind making the retrieve_ar39_events method was to iteratively assign the number of associated Ar39 for each muon event,\n",
    "based on the number of time windows in that event. Therefore, the retrieve_ar39_events method only returns one muon's worth of Ar39.\n",
    "\n",
    "For each unique ID in the above_majority_41 list, get the number of time_bins, and use that to generate the correct number of associated Ar39\n",
    "Currently, hydrogen is included automatically in the analysis, but can be disabled easily.\n",
    "\n",
    "Update: instead of retrieving 10us*X Ar39 at once, it's more correct to retrieve 10 us windows X times. But also, we've decided it's better\n",
    "to do analysis on the Ar39 separately from the Ar41+Ar39+H2.\n",
    "'''\n",
    "\n",
    "#sliced_df_41 = opanalysis.slicing(ar40_df, 300, n_bar, 10, eff, .00001)\n",
    "#sliced_df_41lid = opanalysis.slicing(ar40_dflid, 52, 3, 10, eff, .00001)\n",
    "    \n",
    "# loop over different PE threshold on single light guide\n",
    "for PE_threshold in tqdm(PE_threshold_list):\n",
    "    \n",
    "    multiplicity_list = [1,2,3,4,5]\n",
    "    \n",
    "    #Apply the PE threshold\n",
    "    PE_thr_applied_41 = sliced_df_41.apply(lambda d: [a for a in d if a > PE_threshold])\n",
    "    PE_thr_applied_41lid = sliced_df_41lid.apply(lambda d: [a for a in d if a > PE_threshold])\n",
    "\n",
    "    #Drop empty rows\n",
    "    PE_thr_applied_41 = PE_thr_applied_41[PE_thr_applied_41.apply(len) > 0]\n",
    "    PE_thr_applied_41lid = PE_thr_applied_41lid[PE_thr_applied_41lid.apply(len) > 0]\n",
    "    \n",
    "    #Concat the dataframes together\n",
    "    PE_thr_applied_41new = pd.concat([PE_thr_applied_41,PE_thr_applied_41lid],axis=1,ignore_index = True)\n",
    "    \n",
    "    '''\n",
    "    Unfortunately, the dataframes' zbands don't combine automatically\n",
    "    So, when the dfs are concatenated, we end up with two half-columns of zbands\n",
    "    The first ~half of the df's rows has correct values in the first column, and NaNs in the second column\n",
    "    Similarly, the second half of the df's rows has NaN's in the first column, and correct values in the second column\n",
    "    So in a stupid way, we loop once through the dataframe and copy over all NaN values in the first column\n",
    "    We do this by checking if the type of the second column is a list (NaN is considered a float type)\n",
    "    If it is, we copy the second column's list over the first column's NaN\n",
    "    In the end, we still have two zband columns - one complete column with all the correct lists,\n",
    "    and then a vestigial half-column left over from the copying.\n",
    "    The half-column is removed in the 'groupby' line.\n",
    "    '''\n",
    "    a = [0,2]\n",
    "    for idx, i in PE_thr_applied_41new.iterrows():\n",
    "        if(type(i[1])==type(a)):\n",
    "            #print(i[1])\n",
    "            i[0] = i[1]\n",
    "\n",
    "    #Use this for the strictest definition of time windowing - needs improvement\n",
    "    #PE_thr_applied_41new = PE_thr_applied_41new[0].groupby(['EventID','time_bin']).sum()\n",
    "    #Use this for the most lenient definition of time windowing i.e. all hits in a single event are summed with no loss\n",
    "    PE_thr_applied_41new = PE_thr_applied_41new[0].groupby(['EventID']).sum()\n",
    "    \n",
    "    # loop over different multiplicity conditions\n",
    "    for M_idx, M in enumerate(tqdm(multiplicity_list)):\n",
    "        \n",
    "        #Consider checking number of light guides triggered in each time window\n",
    "        \n",
    "        # Majority condition (M = 1 means \"single light guide trigger\" which corresponds to the case no majority activated)  \n",
    "        above_majority_41 = PE_thr_applied_41new.apply(lambda d: len(d) >= M)\n",
    "        \n",
    "        #Drop rows which didn't pass the majority condition\n",
    "        above_majority_41 = above_majority_41[above_majority_41==True]\n",
    "        \n",
    "        #At this point, above_majority contains a column of booleans for the previous cut, so we just sum the column\n",
    "        #Edit: doing it this way does not account for the same event triggering multiple detections\n",
    "        #So, we go back to the old way of doing it\n",
    "        #Leaving the incorrect way of doing it here for legacy purposes\n",
    "        #detected_41 = above_majority_41.sum()\n",
    "        detected_41 = len(above_majority_41.index.get_level_values(0).unique())\n",
    "        \n",
    "        '''\n",
    "        Ar39 analysis will be moved to a separate script, or at the very least, a separate cell, when the time is appropriate\n",
    "        efficiency_counter = 0        \n",
    "        ar39_used = 0\n",
    "        ar39_events = pd.DataFrame()\n",
    "        ar39_event = pd.DataFrame()\n",
    "        \n",
    "        #I find it easier to work with a dataframe than a multi-indexed series\n",
    "        am = pd.DataFrame()\n",
    "        am['EventID'] = above_majority_41.index.get_level_values(0)\n",
    "        am['time_bin'] = above_majority_41.index.get_level_values(1)\n",
    "        am = am.groupby(['EventID']).count()\n",
    "        \n",
    "        for nwindows in tqdm(am['time_bin'].values): #For each event, with nwindows being the number of unique time windows (slices)  \n",
    "            \n",
    "            #First, retrieve a number of Ar39 events corresponding to the number of time windows in the associated Ar41 event\n",
    "\n",
    "            #Change this from 10us*nwindows to 10us nwindows times\n",
    "            for nw in range(nwindows):\n",
    "                \n",
    "                ar39_events = pd.concat([opanalysis.retrieve_ar39_events(ar39_df, evt_list, 1e-5),ar39_events])\n",
    "            \n",
    "            #Then, the usual cuts\n",
    "            sliced_df_39 = opanalysis.slicing(ar39_events, 300, n_bar, 10, eff)#Apply light guide geometry, detection efficiency\n",
    "                                                                    #DO NOT set a time window for the Ar39 events!\n",
    "            PE_thr_applied_39 = sliced_df_39.apply(lambda d: [a for a in d if a > PE_threshold])#Apply PE threshold\n",
    "            # Majority condition (M = 1 means \"single light guide trigger\" which corresponds to the case no majority activated)            \n",
    "            \n",
    "            above_majority_39 = PE_thr_applied_39[PE_thr_applied_39.apply(lambda d: len(d) >= M)]\n",
    "            detected_39 = len(above_majority_39.index.get_level_values(0).unique())\n",
    "            \n",
    "            if detected_39 > 0:\n",
    "                efficiency_counter += 1\n",
    "            ar39_used += 1\n",
    "        '''\n",
    "        \n",
    "        # this is to put the label only once\n",
    "        label = None\n",
    "        if PE_threshold == (1):\n",
    "            label = f\"majority: {M}\"\n",
    "        \n",
    "        ar41_efficiency = detected_41 / total_nof_ar40_events * 100\n",
    "        \n",
    "        plt.scatter(PE_threshold, ar41_efficiency, marker = marker[M_idx], color = color[M_idx], label = label, linestyle = \"\", s = 50)\n",
    "        plt.ylabel(\"$^{41}$Ar detection efficiency (%)\")\n",
    "        plt.xticks(PE_threshold_list)\n",
    "        plt.yscale(\"linear\")\n",
    "        plt.ylim([0, 1.1e2])\n",
    "        plt.grid(axis='y')\n",
    "\n",
    "plt.title(f\"guides: {n_bar}  -  PDE: {eff*100}%\")            \n",
    "plt.legend()"
   ]
  },
  {
   "cell_type": "code",
   "execution_count": null,
   "id": "fa8502f2-8ec4-48c7-8c5d-44e433265117",
   "metadata": {
    "jupyter": {
     "source_hidden": true
    },
    "tags": []
   },
   "outputs": [],
   "source": [
    "pd.options.mode.chained_assignment = None\n",
    "PE_threshold = 1\n",
    "efficiency_counter = 0\n",
    "M = 2\n",
    "\n",
    "sliced_df_41 = pd.concat([sliced_df_41,sliced_df_41lid],axis=0,ignore_index = True)\n",
    "sliced_df_41.sort_values()#by=['EventID'])\n",
    "print(sliced_df_41)\n",
    "\n",
    "#PE_thr_applied_41 = sliced_df_41.apply(lambda d: [a for a in d if a > PE_threshold])\n",
    "#PE_thr_applied_41lid = sliced_df_41lid.apply(lambda d: [a for a in d if a > PE_threshold])\n",
    "\n",
    "#Combine before mult cut\n",
    "#Pe_thr_applied_41both = pd.concat([PE_thr_applied_41,PE_thr_applied_41lid],axis=0,ignore_index = True)\n",
    "#Pe_thr_applied_41both.sort_values(by=['EventID'])\n",
    "\n",
    "\n",
    "# Majority condition (M = 1 means \"single light guide trigger\" which corresponds to the case no majority activated)\n",
    "above_majority_41 = PE_thr_applied_41both[PE_thr_applied_41both.apply(lambda d: len(d) >= M)]\n",
    "detected_41 = len(above_majority_41both.index.get_level_values(0).unique())\n",
    "#above_majority_41lid = PE_thr_applied_41lid[PE_thr_applied_41lid.apply(lambda d: len(d) >= M)]\n",
    "#detected_41lid = len(above_majority_41lid.index.get_level_values(0).unique())\n",
    "\n",
    "print(above_majority_41)\n",
    "#Contains EventID, panel, time_bin, and an unlabeled object which contains the number of PEs in each valid panel\n",
    "#I don't know how to access the last number yet...\n",
    "\n",
    "am = pd.DataFrame()\n",
    "am['EventID'] = above_majority_41.index.get_level_values(0)\n",
    "am['panel'] = above_majority_41.index.get_level_values(1)\n",
    "am['time_bin'] = above_majority_41.index.get_level_values(2)\n",
    "#am['band'] = above_majority_41.index.get_level_values(3)\n",
    "\n",
    "amlid = pd.DataFrame()\n",
    "amlid['EventID'] = above_majority_41lid.index.get_level_values(0)\n",
    "amlid['panel'] = above_majority_41lid.index.get_level_values(1)\n",
    "amlid['time_bin'] = above_majority_41lid.index.get_level_values(2)\n",
    "#amlid['band'] = above_majority_41lid.index.get_level_values(3)\n",
    "\n",
    "evtlist = list(am['EventID'].unique())\n",
    "#print(evtlist)\n",
    "\n",
    "\n",
    "panelevts = 0\n",
    "paneltimes = above_majority_41.index.get_level_values(2)\n",
    "lidtimes = above_majority_41lid.index.get_level_values(2)\n",
    "#print(lidtimes)\n",
    "\n",
    "#for index, row in am.iterrows():\n",
    "    #amlid = amlid[amlid.EventID == row['EventID']]\n",
    "    #print(row['EventID'])\n",
    "    #print(amlid)\n",
    "    \n",
    "#am = am.groupby(['EventID']).count()\n",
    "#amlid = amlid.groupby(['EventID'])#.count()\n",
    "#print(amlid)\n",
    "\n",
    "ammega = pd.concat([am,amlid],axis=0,ignore_index = True)\n",
    "ammega.sort_values(by=['EventID'])\n",
    "print(ammega)\n",
    "#print(am)\n",
    "ammega = ammega.drop_duplicates()\n",
    "print(ammega)\n",
    "#At this point, we have the panels and hits combined, and sorted by EventID, but there's one last problem\n",
    "#We need to do this combining BEFORE the majority cut\n",
    "#Otherwise, the majority cut will apply to the panels and the lid separately, which is inaccurate\n",
    "#Looking at the structure of each subsequent dataframe, we have something like this:\n",
    "\n",
    "#sliced_df: Just the sliced df, with each slice still containing the full xband/zband, zeroes included\n",
    "#PE_thr_applied: Looks like previous, but band info is empty for things which don't pass cut, single-valued otherwise\n",
    "#above_majority: empty-banded rows are gone, singled values are now in a list together, unsure how to access list\n",
    "\n",
    "#I think the next task is to clear the empty bands BEFORE the majority cut, combine the two dataframes and do the\n",
    "#Necessary manipulations, and then finally apply the majority cut\n",
    "\n",
    "\n",
    "#for nwindows in am['time_bin'].values: #For each event, with nwindows being the number of unique time windows (slices)  \n",
    "\n",
    "    #First, retrieve a number of Ar39 events corresponding to the number of time windows in the associated Ar41 event\n",
    "    #ar39_events = opanalysis.retrieve_ar39_events(ar39_df, evt_list, 1e-5*nwindows)    \n",
    "    #Then, the usual cuts\n",
    "    #sliced_df_39 = opanalysis.slicing(ar39_events, 300, 12, 10, .001)#Apply light guide geometry, detection efficiency\n",
    "                                                                    #DO NOT set a time window for the Ar39 events!\n",
    "    #PE_thr_applied_39 = sliced_df_39.apply(lambda d: [a for a in d if a > PE_threshold])#Apply PE threshold\n",
    "    # Majority condition (M = 1 means \"single light guide trigger\" which corresponds to the case no majority activated)\n",
    "    #above_majority_39 = PE_thr_applied_39[PE_thr_applied_39.apply(lambda d: len(d) >= M)]\n",
    "    #detected_39 = len(above_majority_39.index.get_level_values(0).unique())\n",
    "\n",
    "    #if detected_39 > 0:\n",
    "    #    efficiency_counter += 1\n"
   ]
  },
  {
   "cell_type": "code",
   "execution_count": null,
   "id": "4990717f-309e-43f3-b48f-1d8b6a104384",
   "metadata": {
    "jupyter": {
     "source_hidden": true
    },
    "tags": []
   },
   "outputs": [],
   "source": [
    "pd.options.mode.chained_assignment = None\n",
    "PE_threshold = 5\n",
    "efficiency_counter = 0\n",
    "M = 2\n",
    "\n",
    "#sliced_df_41new = pd.concat([sliced_df_41,sliced_df_41lid],axis=1,ignore_index = True)\n",
    "#sliced_df_41.sort_values()#by=['EventID'])\n",
    "#print(sliced_df_41)\n",
    "#print(sliced_df_41lid)\n",
    "#print(sliced_df_41new)\n",
    "#Result: the combined sliced_df is incorrect. Shows a bunch of NaN values for the second df added.\n",
    "\n",
    "PE_thr_applied_41 = sliced_df_41.apply(lambda d: [a for a in d if a > PE_threshold])\n",
    "PE_thr_applied_41lid = sliced_df_41lid.apply(lambda d: [a for a in d if a > PE_threshold])\n",
    "#PE_thr_applied_41.dropna(subset=['EventID'], inplace=True) #Doesn't work\n",
    "\n",
    "PE_thr_applied_41 = PE_thr_applied_41[PE_thr_applied_41.apply(len) > 0]\n",
    "PE_thr_applied_41lid = PE_thr_applied_41lid[PE_thr_applied_41lid.apply(len) > 0]\n",
    "\n",
    "PE_thr_applied_41new = pd.concat([PE_thr_applied_41,PE_thr_applied_41lid],axis=1,ignore_index = True)\n",
    "a = [0,2]\n",
    "for idx, i in PE_thr_applied_41new.iterrows():\n",
    "    if(type(i[1])==type(a)):\n",
    "        #print(i[1])\n",
    "        i[0] = i[1]\n",
    "        \n",
    "PE_thr_applied_41new = PE_thr_applied_41new[0].groupby(['EventID','time_bin']).sum()\n",
    "\n",
    "#PE_thr_applied_41new[0].name = \"ZERO\"\n",
    "#PE_thr_applied_41new.rename({0:'one'},axis='columns')\n",
    "#print(PE_thr_applied_41new)\n",
    "#PE_thr_applied_41new.drop(['one'])\n",
    "#PE_thr_applied_41new.drop(PE_thr_applied_41new.1)\n",
    "#print(PE_thr_applied_41new.columns.names)\n",
    "#print(type(PE_thr_applied_41new))\n",
    "#list(PE_thr_applied_41new.columns)\n",
    "#PE_thr_applied_41new.head()\n",
    "#ar40_df.head()\n",
    "#print(PE_thr_applied_41new)\n",
    "#print(PE_thr_applied_41new.columns[0]) #Better?\n",
    "#PE_thr_applied_41new.drop([1])\n",
    "#print(PE_thr_applied_41new)\n",
    "above_majority_41 = PE_thr_applied_41new.apply(lambda d: len(d) >= M)\n",
    "above_majority_41.rename('passmajority')\n",
    "#print(above_majority_41)\n",
    "\n",
    "#ped = pd.DataFrame()\n",
    "#ped = PE_thr_applied_41new[0].groupby(['EventID','time_bin']).sum()\n",
    "#print(ped)\n",
    "\n",
    "#peds = ped.groupby(['EventID']).sum()#Almost right, but misses the time binning\n",
    "#print(PE_thr_applied_41new)\n",
    "#peds = ped.groupby(['EventID','time_bin']).sum()\n",
    "#print(peds)\n",
    "above_majority_41 = above_majority_41[above_majority_41==True]\n",
    "print(above_majority_41)\n",
    "\n",
    "am = pd.DataFrame()\n",
    "am['EventID'] = above_majority_41.index.get_level_values(0)\n",
    "am['time_bin'] = above_majority_41.index.get_level_values(1)\n",
    "print(am)\n",
    "am = am.groupby(['EventID']).count()\n",
    "#print(am)\n",
    "#for nwindows in tqdm(am['time_bin'].values):\n",
    "#    print(nwindows)"
   ]
  },
  {
   "cell_type": "code",
   "execution_count": null,
   "id": "156392e6-7016-49c0-a5eb-984476e52a9e",
   "metadata": {
    "jupyter": {
     "source_hidden": true
    },
    "tags": []
   },
   "outputs": [],
   "source": [
    "pd.options.mode.chained_assignment = None\n",
    "PE_threshold = 1\n",
    "efficiency_counter = 0\n",
    "M = 2\n",
    "\n",
    "#sliced_df_41new = pd.concat([sliced_df_41,sliced_df_41lid],axis=1,ignore_index = True)\n",
    "#sliced_df_41.sort_values()#by=['EventID'])\n",
    "#print(sliced_df_41)\n",
    "#print(sliced_df_41lid)\n",
    "#print(sliced_df_41new)\n",
    "#Result: the combined sliced_df is incorrect. Shows a bunch of NaN values for the second df added.\n",
    "\n",
    "PE_thr_applied_41 = sliced_df_41.apply(lambda d: [a for a in d if a > PE_threshold])\n",
    "PE_thr_applied_41lid = sliced_df_41lid.apply(lambda d: [a for a in d if a > PE_threshold])\n",
    "#PE_thr_applied_41.dropna(subset=['EventID'], inplace=True) #Doesn't work\n",
    "PE_thr_applied_41 = PE_thr_applied_41[PE_thr_applied_41.apply(len) > 0]\n",
    "PE_thr_applied_41lid = PE_thr_applied_41lid[PE_thr_applied_41lid.apply(len) > 0]\n",
    "PE_thr_applied_41new = pd.concat([PE_thr_applied_41,PE_thr_applied_41lid],axis=0,ignore_index = True)\n",
    "#PE_thr_applied_41new.columns[0].combine_first(PE_thr_applied_41new.columns[1])#Broken\n",
    "PE_thr_applied_41new.index.name = 'header'\n",
    "#print(PE_thr_applied_41)\n",
    "#print(PE_thr_applied_41lid)\n",
    "#print(PE_thr_applied_41new)\n",
    "a = [0,2]\n",
    "#for idx, i in PE_thr_applied_41new.iterrows():\n",
    "    #if(type(i[1])==type(a)):\n",
    "        #print(i[1])\n",
    "        #i[0] = i[1]\n",
    "#PE_thr_applied_41new[0].name = \"ZERO\"\n",
    "#PE_thr_applied_41new.rename({0:'one'},axis='columns')\n",
    "#print(PE_thr_applied_41new)\n",
    "#PE_thr_applied_41new.drop(['one'])\n",
    "#PE_thr_applied_41new.drop(PE_thr_applied_41new.1)\n",
    "#print(PE_thr_applied_41new.columns.names)\n",
    "#print(type(PE_thr_applied_41new))\n",
    "#list(PE_thr_applied_41new.columns)\n",
    "#PE_thr_applied_41new.head()\n",
    "#ar40_df.head()\n",
    "#print(PE_thr_applied_41new)\n",
    "#print(PE_thr_applied_41new.columns[0]) #Better?\n",
    "#PE_thr_applied_41new.rename({1:'ONE'},axis='columns')\n",
    "#PE_thr_applied_41new.drop([1])\n",
    "print(PE_thr_applied_41new)"
   ]
  },
  {
   "cell_type": "code",
   "execution_count": null,
   "id": "bec43830-a050-4a0d-9304-6b12858d53e6",
   "metadata": {
    "jupyter": {
     "source_hidden": true
    },
    "tags": []
   },
   "outputs": [],
   "source": [
    "#print(sliced_df_41)\n",
    "#sdf = pd.DataFrame([sliced_df_41])\n",
    "#sdf.index = sdf.index.get_level_values(0)\n",
    "#print(sdf)\n",
    "#print(sdf.columns)\n",
    "#print(type(sdf))\n",
    "#print(sdf.columns.to_flat_index())#Good?\n",
    "\n",
    "#ssdf = sdf.columns.to_flat_index()\n",
    "#print(type(ssdf))\n",
    "\n",
    "#i = 0\n",
    "#print(sdf[1])\n",
    "#for ele in sdf: #Almost\n",
    "#    print(ele[0])\n",
    "#    print(ele[2])\n",
    "#    i = i+1\n",
    "#    if i > 100:\n",
    "#        break\n",
    "\n",
    "#sdf = sliced_df_41.pd.to_frame\n",
    "#print(type(sdf))\n",
    "#s = pd.Series([\"a\", \"b\", \"c\"],name=\"vals\")\n",
    "#d = s.to_frame()\n",
    "#print(type(d))"
   ]
  }
 ],
 "metadata": {
  "kernelspec": {
   "display_name": "Python 3 (ipykernel)",
   "language": "python",
   "name": "python3"
  },
  "language_info": {
   "codemirror_mode": {
    "name": "ipython",
    "version": 3
   },
   "file_extension": ".py",
   "mimetype": "text/x-python",
   "name": "python",
   "nbconvert_exporter": "python",
   "pygments_lexer": "ipython3",
   "version": "3.12.7"
  }
 },
 "nbformat": 4,
 "nbformat_minor": 5
}
